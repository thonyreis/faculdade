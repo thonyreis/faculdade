{
  "nbformat": 4,
  "nbformat_minor": 0,
  "metadata": {
    "colab": {
      "provenance": [],
      "authorship_tag": "ABX9TyMv5hRInVtsjivkKeKnv5JU",
      "include_colab_link": true
    },
    "kernelspec": {
      "name": "python3",
      "display_name": "Python 3"
    },
    "language_info": {
      "name": "python"
    }
  },
  "cells": [
    {
      "cell_type": "markdown",
      "metadata": {
        "id": "view-in-github",
        "colab_type": "text"
      },
      "source": [
        "<a href=\"https://colab.research.google.com/github/thonyreis/faculdade/blob/main/Exercicios.ipynb\" target=\"_parent\"><img src=\"https://colab.research.google.com/assets/colab-badge.svg\" alt=\"Open In Colab\"/></a>"
      ]
    },
    {
      "cell_type": "markdown",
      "source": [
        "Exercício 01"
      ],
      "metadata": {
        "id": "nOe8zJjdtyVb"
      }
    },
    {
      "cell_type": "code",
      "source": [
        "print(\"Bem-vindo à loja do Antônio Reis RU 4657611\")\n",
        "valorUnit = float(input(\"Entre com o valor unitário do produto: R$\"))\n",
        "quantProduto = float(input(\"Entre com a quantidade do produto: \"))\n",
        "valorTotal = valorUnit * quantProduto\n",
        "\n",
        "if valorTotal < 2500:\n",
        "    # não existe desconto nessa condição, portanto so exibiremos o valor total\n",
        "    print(\"O valor da compra foi de R${}\" .format(valorTotal))\n",
        "elif 2500 <= valorTotal < 6000:\n",
        "    valorDesc = valorTotal * 0.96\n",
        "    print(\"O valor sem desconto foi de R${:.2f}\".format(valorTotal))\n",
        "    print(\"O valor com desconto foi de R${:.2f} (desconto 4%)\".format(valorDesc))\n",
        "elif 6000 <= valorTotal < 10000:\n",
        "    valorDesc = valorTotal * 0.93\n",
        "    print(\"O valor sem desconto foi de R${:.2f}\".format(valorTotal))\n",
        "    print(\"O valor com desconto foi de R${:.2f} (desconto 7%)\".format(valorDesc))\n",
        "else:\n",
        "    valorDesc = valorTotal * 0.89\n",
        "    print(\"O valor sem desconto foi de R${:.2f}\".format(valorTotal))\n",
        "    print(\"O valor com desconto foi de R${:.2f} (desconto 11%)\".format(valorDesc))"
      ],
      "metadata": {
        "colab": {
          "base_uri": "https://localhost:8080/"
        },
        "id": "QLAcKVOEt0Zb",
        "outputId": "d339c6a0-96a0-4659-f5d6-ee13f8a0e306"
      },
      "execution_count": null,
      "outputs": [
        {
          "output_type": "stream",
          "name": "stdout",
          "text": [
            "Bem-vindo à loja do Antônio Reis RU 4657611\n",
            "Entre com o valor unitário do produto: R$3002\n",
            "Entre com a quantidade do produto: 2\n",
            "O valor sem desconto foi de R$6004.00\n",
            "O valor com desconto foi de R$5583.72 (desconto 7%)\n"
          ]
        }
      ]
    },
    {
      "cell_type": "markdown",
      "source": [
        "Exercício 02"
      ],
      "metadata": {
        "id": "-T5b4v3OuNqv"
      }
    },
    {
      "cell_type": "code",
      "source": [
        "print(\"Bem-vindo à loja de Gelados do Antônio Reis\")\n",
        "print(\"-\"*21,\"Cardápio\",\"-\"*21)\n",
        "print(\"-\"*6,\"| Tamanho | Cupuaçu (CP) | Açaí (AC) |\",\"-\"*6)\n",
        "print(\"-\"*6,\"|    P    |   R$ 09,00   | R$ 11,00  |\",\"-\"*6)\n",
        "print(\"-\"*6,\"|    M    |   R$ 14,00   | R$ 16,00  |\",\"-\"*6)\n",
        "print(\"-\"*6,\"|    G    |   R$ 18,00   | R$ 20,00  |\",\"-\"*6)\n",
        "print(\"-\"*50)\n",
        "\n",
        "novoPedido = 's'\n",
        "total = 0\n",
        "while novoPedido == 's':\n",
        "    # Inputs dos sabores e tamanhos e suas devidas verificações\n",
        "    # inserindo a função '.upper()' para que converta os caracteres para maíúsculo\n",
        "    sabor = input(\"Entre com o sabor desejado (CP/AC): \").upper()\n",
        "    if sabor != \"CP\" and sabor != \"AC\":\n",
        "        print(\"Sabor inválido. Tente novamente\")\n",
        "        continue\n",
        "\n",
        "    tamanho = input(\"Entre com o tamanho desejado (P/M/G): \").upper()\n",
        "    if tamanho != \"P\" and tamanho != \"M\" and tamanho != \"G\":\n",
        "        print(\"Tamanho inválido. Tente novamente\")\n",
        "        continue\n",
        "\n",
        "    if sabor.upper() == \"CP\":\n",
        "        if tamanho.upper() == \"P\":\n",
        "            valorItem = 9\n",
        "        elif tamanho.upper() == \"M\":\n",
        "            valorItem = 14\n",
        "        else:\n",
        "            valorItem = 18\n",
        "    else:\n",
        "        if tamanho.upper() == \"P\":\n",
        "            valorItem = 11\n",
        "        elif tamanho.upper() == \"M\":\n",
        "            valorItem = 16\n",
        "        else:\n",
        "            valorItem = 20\n",
        "\n",
        "    print(\"Você pediu {} no tamanho {}: R${}\".format(sabor, tamanho, valorItem))\n",
        "    total += valorItem\n",
        "    print(\"\")\n",
        "\n",
        "    novoPedido = input(\"Deseja mais alguma coisa (s/digite outra tecla)? \")\n",
        "    print(\"\")\n",
        "    if novoPedido.upper() != \"S\":\n",
        "        break\n",
        "\n",
        "print(\"O Valor total a ser pago é R${:.2f}\" .format(total))\n",
        "\n"
      ],
      "metadata": {
        "colab": {
          "base_uri": "https://localhost:8080/"
        },
        "id": "Ng07E1s1uPfm",
        "outputId": "486a3eaf-8015-47de-bdf4-44eacb227d14"
      },
      "execution_count": null,
      "outputs": [
        {
          "output_type": "stream",
          "name": "stdout",
          "text": [
            "Bem-vindo à loja de Gelados do Antônio Reis\n",
            "---------------------Cardápio---------------------\n",
            "------| Tamanho | Cupuaçu (CP) | Açaí (AC) |------\n",
            "------|    P    |   R$ 09,00   | R$ 11,00  |------\n",
            "------|    M    |   R$ 14,00   | R$ 16,00  |------\n",
            "------|    G    |   R$ 18,00   | R$ 20,00  |------\n",
            "--------------------------------------------------\n",
            "Entre com o sabor desejado (CP/AC): gf\n",
            "Sabor inválido. Tente novamente\n",
            "Entre com o sabor desejado (CP/AC): cp\n",
            "Entre com o tamanho desejado (P/M/G): h\n",
            "Tamanho inválido. Tente novamente\n",
            "Entre com o sabor desejado (CP/AC): cp\n",
            "Entre com o tamanho desejado (P/M/G): m\n",
            "Você pediu cp no tamanho m: R$14\n",
            "\n",
            "Deseja mais alguma coisa (s/digite outra tecla)? s\n",
            "\n",
            "Entre com o sabor desejado (CP/AC): ac\n",
            "Entre com o tamanho desejado (P/M/G): p\n",
            "Você pediu ac no tamanho p: R$11\n",
            "\n",
            "Deseja mais alguma coisa (s/digite outra tecla)? n\n",
            "\n",
            "O Valor total a ser pago é R$25.00\n"
          ]
        }
      ]
    },
    {
      "cell_type": "markdown",
      "source": [
        "Exercício 03"
      ],
      "metadata": {
        "id": "ewlO3xqkAzLX"
      }
    },
    {
      "cell_type": "code",
      "source": [
        "def escolha_servico():\n",
        "    while True:\n",
        "      # Inserindo .upper() para que a resposta seja convertida em Maiúscula\n",
        "        servico = input(\"Entre com o tipo de serviço desejado\"\n",
        "                        \"\\n DIG - Digitalização \"\n",
        "                        \"\\n ICO - Impressão Colorida \"\n",
        "                        \"\\n IBO - Impressão Preto e Branco \"\n",
        "                        \"\\n FOT - Fotocópia\"\n",
        "                        \"\\n\").upper()\n",
        "        if servico in [\"DIG\", \"ICO\", \"IBO\", \"FOT\"]:\n",
        "            return servico\n",
        "        else:\n",
        "            print(\"Escolha inválida. \\n Entre com o tipo de serviço desejado novamente\\n\")\n",
        "\n",
        "\n",
        "def num_pagina():\n",
        "    while True:\n",
        "        try:\n",
        "            num_paginas = int(input(\"Digite o número de páginas: \"))\n",
        "            if num_paginas < 20:\n",
        "                return num_paginas\n",
        "            elif 20 <= num_paginas < 200:\n",
        "                return num_paginas * 0.85  # Desconto de 15%\n",
        "            elif 200 <= num_paginas < 2000:\n",
        "                return num_paginas * 0.8  # Desconto de 20%\n",
        "            elif 2000 <= num_paginas < 20000:\n",
        "                return num_paginas * 0.75  # Desconto de 25%\n",
        "            else:\n",
        "                print(\"Não aceitamos tantas páginas de uma vez.\")\n",
        "        except ValueError:\n",
        "            print(\"Por favor, entre com o numero de paginas novamente.\")\n",
        "\n",
        "def servico_extra():\n",
        "    valor_extra = 0\n",
        "    while True:\n",
        "        servico_adicional = input(\"Deseja adicionar mais algum serviço?\"\n",
        "                                  \"\\n 1 - Encadernação Simples - R$15\"\n",
        "                                  \"\\n 2 - Encadernação Capa Dura - R$40\"\n",
        "                                  \"\\n 0 - Não desejo mais nada\"\n",
        "                                  \"\\n \")\n",
        "        if servico_adicional == \"1\":\n",
        "            valor_extra += 15\n",
        "        elif servico_adicional == \"2\":\n",
        "            valor_extra += 40\n",
        "        elif servico_adicional == \"0\":\n",
        "            return valor_extra\n",
        "        else:\n",
        "            print(\"Opção inválida. Tente novamente.\")\n",
        "\n",
        "\n",
        "\n",
        "def main():\n",
        "    print(\"Bem-vindo à Copiadora Antônio de Pádua Reis Filho\\n\")\n",
        "\n",
        "    try:\n",
        "        servico = escolha_servico()\n",
        "        num_paginas = num_pagina()\n",
        "        valor_extra = servico_extra()\n",
        "        servico_preco = {\"DIG\": 1.10, \"ICO\": 1.00, \"IBO\": 0.40, \"FOT\": 0.20}\n",
        "        total = servico_preco[servico] * num_paginas + valor_extra\n",
        "        print(f\"Total (R$): {total:.2f} (serviço {servico_preco[servico]} * paginas: {num_paginas} + extra(s) {valor_extra})\")\n",
        "    except KeyboardInterrupt:\n",
        "        print(\"\\nOperação interrompida pelo usuário.\")\n",
        "    except Exception as e:\n",
        "        print(f\"Erro: {e}\")\n",
        "\n",
        "\n",
        "if __name__ == \"__main__\":\n",
        "    main()\n"
      ],
      "metadata": {
        "colab": {
          "base_uri": "https://localhost:8080/"
        },
        "id": "-Ve2MnkkA03f",
        "outputId": "2c07675d-3d41-4fc4-def1-97dd8501e969"
      },
      "execution_count": null,
      "outputs": [
        {
          "output_type": "stream",
          "name": "stdout",
          "text": [
            "Bem-vindo à Copiadora Antônio de Pádua Reis Filho\n",
            "\n",
            "Entre com o tipo de serviço desejado\n",
            " DIG - Digitalização \n",
            " ICO - Impressão Colorida \n",
            " IBO - Impressão Preto e Branco \n",
            " FOT - Fotocópia\n",
            "aja\n",
            "Escolha inválida. \n",
            " Entre com o tipo de serviço desejado novamente\n",
            "\n",
            "Entre com o tipo de serviço desejado\n",
            " DIG - Digitalização \n",
            " ICO - Impressão Colorida \n",
            " IBO - Impressão Preto e Branco \n",
            " FOT - Fotocópia\n",
            "ico\n",
            "Digite o número de páginas: 30000000\n",
            "Não aceitamos tantas páginas de uma vez.\n",
            "Digite o número de páginas: 300\n",
            "Deseja adicionar mais algum serviço?\n",
            " 1 - Encadernação Simples - R$15\n",
            " 2 - Encadernação Capa Dura - R$40\n",
            " 0 - Não desejo mais nada\n",
            " 2\n",
            "Deseja adicionar mais algum serviço?\n",
            " 1 - Encadernação Simples - R$15\n",
            " 2 - Encadernação Capa Dura - R$40\n",
            " 0 - Não desejo mais nada\n",
            " 0\n",
            "Total (R$): 280.00 (serviço 1.0 * paginas: 240.0 + extra(s) 40)\n"
          ]
        }
      ]
    },
    {
      "cell_type": "markdown",
      "source": [
        "Exercicio 04"
      ],
      "metadata": {
        "id": "Nah3q52rhs9P"
      }
    },
    {
      "cell_type": "code",
      "source": [],
      "metadata": {
        "id": "n4sq1KZ1hutM"
      },
      "execution_count": null,
      "outputs": []
    }
  ]
}